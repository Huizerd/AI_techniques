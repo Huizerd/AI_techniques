{
 "cells": [
  {
   "cell_type": "code",
   "execution_count": 1,
   "metadata": {
    "ExecuteTime": {
     "end_time": "2018-12-13T12:45:32.391321Z",
     "start_time": "2018-12-13T12:45:32.384477Z"
    }
   },
   "outputs": [],
   "source": [
    "import os \n",
    "import json "
   ]
  },
  {
   "cell_type": "code",
   "execution_count": 3,
   "metadata": {
    "ExecuteTime": {
     "end_time": "2018-12-13T12:48:01.532921Z",
     "start_time": "2018-12-13T12:48:01.527733Z"
    }
   },
   "outputs": [],
   "source": [
    "path='train/'\n",
    "\n",
    "train_files = os.listdir(path)\n",
    "train = json.load(open(os.path.join(path, train_files[0])))"
   ]
  },
  {
   "cell_type": "code",
   "execution_count": 73,
   "metadata": {
    "ExecuteTime": {
     "end_time": "2018-12-13T13:55:59.333094Z",
     "start_time": "2018-12-13T13:55:59.325957Z"
    }
   },
   "outputs": [],
   "source": [
    "def get_utility(bid, pref):\n",
    "    util = 0\n",
    "    issuelist = list(pref.keys())\n",
    "    for issueindex, issue in enumerate(issuelist):\n",
    "        # values of issue in given bid\n",
    "        value = pref[issue][bid[issueindex]]\n",
    "        # weight of issue in given bid\n",
    "        weight = pref[issue]['weight']\n",
    "        util += weight*value\n",
    "    return util"
   ]
  },
  {
   "cell_type": "code",
   "execution_count": 105,
   "metadata": {
    "ExecuteTime": {
     "end_time": "2018-12-13T14:48:54.277507Z",
     "start_time": "2018-12-13T14:48:54.271779Z"
    }
   },
   "outputs": [],
   "source": [
    "# Extraction \n",
    "all_issues = train['issues']\n",
    "pref1 = train['Utility1']\n",
    "pref2 = train['Utility2']\n",
    "all_bids = train['bids']\n",
    "\n",
    "# Contains (round, utility_agent1, utility_agent2)\n",
    "mapped_utils = []\n",
    "\n",
    "# Parse utility values of bids\n",
    "for bid in all_bids:\n",
    "    r = bid['round']\n",
    "    if 'accept' in bid: break\n",
    "    bid_agent1 = bid['agent1'].split(',')\n",
    "    bid_agent2 = bid['agent2'].split(',')\n",
    "    u1 = get_utility(bid_agent1, pref1)\n",
    "    u2 = get_utility(bid_agent2, pref2)\n",
    "    \n",
    "    mapped_utils.append((u1, u2, int(r)))"
   ]
  },
  {
   "cell_type": "code",
   "execution_count": 111,
   "metadata": {
    "ExecuteTime": {
     "end_time": "2018-12-13T14:49:33.597107Z",
     "start_time": "2018-12-13T14:49:33.585012Z"
    }
   },
   "outputs": [
    {
     "name": "stdout",
     "output_type": "stream",
     "text": [
      "None\n",
      "None\n",
      "None\n",
      "None\n",
      "None\n",
      "None\n",
      "None\n",
      "None\n",
      "None\n",
      "None\n",
      "None\n",
      "None\n",
      "None\n",
      "None\n",
      "None\n",
      "None\n",
      "None\n",
      "None\n",
      "None\n",
      "None\n",
      "None\n",
      "None\n",
      "None\n",
      "None\n",
      "None\n",
      "None\n",
      "None\n",
      "None\n",
      "None\n",
      "None\n",
      "None\n",
      "None\n",
      "None\n",
      "None\n",
      "None\n",
      "None\n",
      "None\n",
      "None\n",
      "None\n",
      "None\n",
      "None\n",
      "None\n",
      "None\n",
      "None\n",
      "None\n",
      "None\n",
      "None\n",
      "None\n",
      "None\n",
      "None\n",
      "None\n",
      "None\n",
      "None\n",
      "None\n",
      "None\n",
      "None\n",
      "None\n",
      "None\n",
      "None\n",
      "None\n",
      "None\n",
      "None\n",
      "None\n"
     ]
    }
   ],
   "source": [
    "def move_mapping(delta_util):\n",
    "    if (abs(delta_util[0]) <= 0.05 and abs(delta_util[1]) <= 0.05):\n",
    "        return 'silent'\n",
    "    if (abs(delta_util[0]) <= 0.05 and delta_util[1]) > 0.05:\n",
    "        return 'nice'\n",
    "    if (delta_util[0] < 0 and delta_util[1] < 0):\n",
    "        return 'unfortunate'\n",
    "    if (delta_util[0] > 0 and delta_util[1] < 0):\n",
    "        return 'selfish'\n",
    "    if (delta_util[0] > 0 and delta_util[1] > 0):\n",
    "        return 'fortunate'\n",
    "    if (delta_util[0] < 0 and delta_util[1] > 0):\n",
    "        return 'concession'\n",
    "\n",
    "\n",
    "####### NOT WORKING YET ###########\n",
    "mapped_utils_discrete = []\n",
    "prev_utils = mapped_utils[0]\n",
    "for new_utils in mapped_utils[1:]:\n",
    "    delta_util = tuple(map(lambda i: new_utils[i] - prev_utils[i], range(len(prev_utils))))\n",
    "    print(move_mapping(delta_util))"
   ]
  },
  {
   "cell_type": "code",
   "execution_count": 99,
   "metadata": {
    "ExecuteTime": {
     "end_time": "2018-12-13T14:46:59.023849Z",
     "start_time": "2018-12-13T14:46:59.019965Z"
    }
   },
   "outputs": [
    {
     "data": {
      "text/plain": [
       "range(0, 3)"
      ]
     },
     "execution_count": 99,
     "metadata": {},
     "output_type": "execute_result"
    }
   ],
   "source": [
    "range(len(prev_utils))"
   ]
  }
 ],
 "metadata": {
  "kernelspec": {
   "display_name": "Python 3",
   "language": "python",
   "name": "python3"
  },
  "language_info": {
   "codemirror_mode": {
    "name": "ipython",
    "version": 3
   },
   "file_extension": ".py",
   "mimetype": "text/x-python",
   "name": "python",
   "nbconvert_exporter": "python",
   "pygments_lexer": "ipython3",
   "version": "3.6.6"
  }
 },
 "nbformat": 4,
 "nbformat_minor": 2
}
