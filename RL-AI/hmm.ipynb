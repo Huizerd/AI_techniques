{
 "cells": [
  {
   "cell_type": "code",
   "execution_count": 1,
   "metadata": {
    "ExecuteTime": {
     "end_time": "2018-12-13T17:45:56.540223Z",
     "start_time": "2018-12-13T17:45:56.537521Z"
    }
   },
   "outputs": [],
   "source": [
    "import os \n",
    "import json "
   ]
  },
  {
   "cell_type": "code",
   "execution_count": 2,
   "metadata": {
    "ExecuteTime": {
     "end_time": "2018-12-13T17:45:57.312234Z",
     "start_time": "2018-12-13T17:45:57.305918Z"
    }
   },
   "outputs": [],
   "source": [
    "path='train/'\n",
    "\n",
    "train_files = os.listdir(path)\n",
    "train = json.load(open(os.path.join(path, train_files[0])))"
   ]
  },
  {
   "cell_type": "markdown",
   "metadata": {},
   "source": [
    "# Extract utilities"
   ]
  },
  {
   "cell_type": "code",
   "execution_count": 33,
   "metadata": {
    "ExecuteTime": {
     "end_time": "2018-12-13T18:04:29.650362Z",
     "start_time": "2018-12-13T18:04:29.643767Z"
    }
   },
   "outputs": [],
   "source": [
    "# Go from bid -> utility\n",
    "def get_utility(bid, pref):\n",
    "    util = 0\n",
    "    issuelist = list(pref.keys())\n",
    "    for issueindex, issue in enumerate(issuelist):\n",
    "        # values of issue in given bid\n",
    "        value = pref[issue][bid[issueindex]]\n",
    "        # weight of issue in given bid\n",
    "        weight = pref[issue]['weight']\n",
    "        util += weight*value\n",
    "    return util\n",
    "\n",
    "# Useful structures\n",
    "all_issues = train['issues']\n",
    "pref1 = train['Utility1']\n",
    "pref2 = train['Utility2']\n",
    "all_bids = train['bids']\n",
    "\n",
    "# Contains (round, utility_agent1, utility_agent2)\n",
    "mapped_utils = []\n",
    "\n",
    "# Parse utility values of bids\n",
    "for bid in all_bids:\n",
    "    r = bid['round']\n",
    "    # stop if the negotiation session has ended\n",
    "    if 'accept' in bid: break\n",
    "    bid_agent1 = bid['agent1'].split(',')\n",
    "    bid_agent2 = bid['agent2'].split(',')\n",
    "    u1 = get_utility(bid_agent1, pref1)\n",
    "    u2 = get_utility(bid_agent2, pref2)\n",
    "    \n",
    "    # Save the bid -> utility mapping\n",
    "    mapped_utils.append((u1, u2, int(r)))"
   ]
  },
  {
   "cell_type": "markdown",
   "metadata": {},
   "source": [
    "# Discritize bids"
   ]
  },
  {
   "cell_type": "code",
   "execution_count": 34,
   "metadata": {
    "ExecuteTime": {
     "end_time": "2018-12-13T18:04:32.307524Z",
     "start_time": "2018-12-13T18:04:32.298984Z"
    }
   },
   "outputs": [],
   "source": [
    "# Utility change to discrete move type\n",
    "def delta_mapping(delta_util):\n",
    "    if (abs(delta_util[0]) <= 0.05 and abs(delta_util[1]) <= 0.05):\n",
    "        return 'silent'\n",
    "    if (abs(delta_util[0]) <= 0.05 and delta_util[1]) > 0.05:\n",
    "        return 'nice'\n",
    "    if (delta_util[0] <= 0 and delta_util[1] < 0):\n",
    "        return 'unfortunate'\n",
    "    if (delta_util[0] > 0 and delta_util[1] < 0):\n",
    "        return 'selfish'\n",
    "    if (delta_util[0] > 0 and delta_util[1] > 0):\n",
    "        return 'fortunate'\n",
    "    if (delta_util[0] < 0 and delta_util[1] > 0):\n",
    "        return 'concession'\n",
    "\n",
    "# List of bids to list of discrete moves\n",
    "def discritized_mapping(agent_bids):\n",
    "    mapped_utils_discrete = []\n",
    "    prev_utils = agent_bids[0]\n",
    "    for new_utils in agent_bids[1:]:\n",
    "        delta_util1 = new_utils[0] - prev_utils[0]\n",
    "        delta_util2 = new_utils[1] - prev_utils[1]\n",
    "        delta_util = (delta_util1, delta_util2)\n",
    "        mapped_utils_discrete.append(delta_mapping(delta_util))\n",
    "        prev_utils = new_utils\n",
    "    return mapped_utils_discrete\n",
    "        \n",
    "    \n",
    "# Discritize bidspace\n",
    "agent1_bids = [mapped_utils[i] for i in range(0, len(mapped_utils), 2)]\n",
    "agent2_bids = [mapped_utils[i] for i in range(1, len(mapped_utils), 2)]\n",
    "\n",
    "agent1_bids_discrete = discritized_mapping(agent1_bids)\n",
    "agent2_bids_discrete = discritized_mapping(agent2_bids)"
   ]
  },
  {
   "cell_type": "code",
   "execution_count": 32,
   "metadata": {
    "ExecuteTime": {
     "end_time": "2018-12-13T17:54:03.307154Z",
     "start_time": "2018-12-13T17:54:03.302327Z"
    }
   },
   "outputs": [
    {
     "name": "stdout",
     "output_type": "stream",
     "text": [
      "32\n",
      "32\n",
      "31\n",
      "31\n"
     ]
    }
   ],
   "source": [
    "print(len(agent1_bids))\n",
    "print(len(agent2_bids))\n",
    "print(len(agent1_bids_discrete))\n",
    "print(len(agent2_bids_discrete))"
   ]
  }
 ],
 "metadata": {
  "kernelspec": {
   "display_name": "Python 3",
   "language": "python",
   "name": "python3"
  },
  "language_info": {
   "codemirror_mode": {
    "name": "ipython",
    "version": 3
   },
   "file_extension": ".py",
   "mimetype": "text/x-python",
   "name": "python",
   "nbconvert_exporter": "python",
   "pygments_lexer": "ipython3",
   "version": "3.6.6"
  }
 },
 "nbformat": 4,
 "nbformat_minor": 2
}
