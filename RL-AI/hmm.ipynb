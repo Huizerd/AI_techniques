{
 "cells": [
  {
   "cell_type": "code",
   "execution_count": 128,
   "metadata": {
    "ExecuteTime": {
     "end_time": "2018-12-20T13:44:07.544630Z",
     "start_time": "2018-12-20T13:44:07.388012Z"
    }
   },
   "outputs": [],
   "source": [
    "import os \n",
    "import json \n",
    "import re\n",
    "import numpy as np\n",
    "\n",
    "from collections import Counter, OrderedDict\n",
    "\n",
    "np.set_printoptions(precision=4)"
   ]
  },
  {
   "cell_type": "markdown",
   "metadata": {},
   "source": [
    "# Extract utilities"
   ]
  },
  {
   "cell_type": "markdown",
   "metadata": {},
   "source": []
  },
  {
   "cell_type": "code",
   "execution_count": 96,
   "metadata": {
    "ExecuteTime": {
     "end_time": "2018-12-20T13:12:13.112443Z",
     "start_time": "2018-12-20T13:12:13.095370Z"
    }
   },
   "outputs": [],
   "source": [
    "bound = 0.01\n",
    "# Go from bid -> utility\n",
    "def get_utility(bid, pref):\n",
    "    util = 0\n",
    "    issuelist = list(pref.keys())\n",
    "    for issueindex, issue in enumerate(issuelist):\n",
    "        # values of issue in given bid\n",
    "        value = pref[issue][bid[issueindex]]\n",
    "        # weight of issue in given bid\n",
    "        weight = pref[issue]['weight']\n",
    "        util += weight*value\n",
    "    return util\n",
    "\n",
    "# Utility change to discrete move type\n",
    "def delta_mapping(delta_util):\n",
    "    if (abs(delta_util[0]) <= bound and abs(delta_util[1]) <= bound):\n",
    "        return 'silent'\n",
    "    if (abs(delta_util[0]) <= bound and delta_util[1]) > bound:\n",
    "        return 'nice'\n",
    "    if (delta_util[0] <= 0 and delta_util[1] <= 0):\n",
    "        return 'unfortunate'\n",
    "    if (delta_util[0] > 0 and delta_util[1] <= 0):\n",
    "        return 'selfish'\n",
    "    if (delta_util[0] > 0 and delta_util[1] >= 0):\n",
    "        return 'fortunate'\n",
    "    if (delta_util[0] < 0 and delta_util[1] > 0):\n",
    "        return 'concession'\n",
    "    print(delta_util)\n",
    "\n",
    "# List of bids to list of discrete moves\n",
    "def discritized_mapping(agent_bids):\n",
    "    mapped_utils_discrete = []\n",
    "    prev_utils = agent_bids[0]\n",
    "    for new_utils in agent_bids[1:]:\n",
    "        delta_util1 = new_utils[0] - prev_utils[0]\n",
    "        delta_util2 = new_utils[1] - prev_utils[1]\n",
    "        delta_util = (delta_util1, delta_util2)\n",
    "        mapped_utils_discrete.append(delta_mapping(delta_util))\n",
    "        prev_utils = new_utils\n",
    "    return mapped_utils_discrete\n",
    "        \n",
    "    \n",
    "def retrieve_all_agents_bids(train):\n",
    "    # Useful structures\n",
    "    all_issues = train['issues']\n",
    "    pref1 = train['Utility1']\n",
    "    pref2 = train['Utility2']\n",
    "    all_bids = train['bids']\n",
    "\n",
    "    mapped_utils_a1 = []\n",
    "    mapped_utils_a2 = []\n",
    "\n",
    "    # Parse utility values of bids\n",
    "    for bid in all_bids:\n",
    "        r = bid['round']\n",
    "#         print(bid)\n",
    "        # stop if the negotiation session has ended\n",
    "        if 'agent1' in bid:\n",
    "            bid_agent1 = bid['agent1'].split(',')\n",
    "            u1_b1 = get_utility(bid_agent1, pref1)\n",
    "            u2_b1 = get_utility(bid_agent1, pref2)\n",
    "            # Save the bid -> utility mapping\n",
    "            mapped_utils_a1.append([u1_b1, u2_b1, int(r)])\n",
    "        if 'agent2' in bid:\n",
    "            bid_agent2 = bid['agent2'].split(',')\n",
    "            u1_b2 = get_utility(bid_agent2, pref1)\n",
    "            u2_b2 = get_utility(bid_agent2, pref2)\n",
    "            mapped_utils_a2.append([u2_b2, u1_b2, int(r)])\n",
    "\n",
    "\n",
    "    agent1_bids = [mapped_utils_a1[i][0:2] for i in range(len(mapped_utils_a1))]\n",
    "    agent2_bids = [mapped_utils_a2[i][0:2] for i in range(len(mapped_utils_a2))]\n",
    "\n",
    "    # Discritize bidspace\n",
    "    agent1_bids_discrete = discritized_mapping(agent1_bids)\n",
    "    agent2_bids_discrete = discritized_mapping(agent2_bids)\n",
    "    \n",
    "    return (agent1_bids_discrete, agent2_bids_discrete)"
   ]
  },
  {
   "cell_type": "code",
   "execution_count": 97,
   "metadata": {
    "ExecuteTime": {
     "end_time": "2018-12-20T13:12:15.395634Z",
     "start_time": "2018-12-20T13:12:15.371306Z"
    }
   },
   "outputs": [],
   "source": [
    "path='train/'\n",
    "\n",
    "train_files = os.listdir(path)\n",
    "agent_count_mapping = {}\n",
    "for t in train_files:\n",
    "    train = json.load(open(os.path.join(path, t)))\n",
    "    a1_name, a2_name = re.split(r'[^A-Za-z]+', t.strip('.json'))[0:2]\n",
    "    a1_bids, a2_bids = retrieve_all_agents_bids(train)\n",
    "    if a1_name not in agent_count_mapping:\n",
    "        agent_count_mapping[a1_name] = []\n",
    "    if a2_name not in agent_count_mapping:\n",
    "        agent_count_mapping[a2_name] = []\n",
    "    agent_count_mapping[a1_name] = agent_count_mapping[a1_name] + a1_bids\n",
    "    agent_count_mapping[a2_name] = agent_count_mapping[a2_name] + a2_bids"
   ]
  },
  {
   "cell_type": "markdown",
   "metadata": {},
   "source": [
    "# Sensor model"
   ]
  },
  {
   "cell_type": "code",
   "execution_count": 152,
   "metadata": {
    "ExecuteTime": {
     "end_time": "2018-12-20T13:48:08.537392Z",
     "start_time": "2018-12-20T13:48:08.529658Z"
    }
   },
   "outputs": [
    {
     "name": "stdout",
     "output_type": "stream",
     "text": [
      "['concession', 'fortunate', 'nice', 'selfish', 'silent', 'unfortunate']\n"
     ]
    },
    {
     "data": {
      "text/plain": [
       "{'hardheaded': array([0.0382, 0.    , 0.0172, 0.    , 0.9008, 0.0439]),\n",
       " 'random': array([0.4169, 0.1118, 0.0091, 0.3384, 0.003 , 0.1208]),\n",
       " 'conceder': array([0.0806, 0.    , 0.2246, 0.    , 0.402 , 0.2928]),\n",
       " 'tft': array([0.0961, 0.0146, 0.0771, 0.0306, 0.6215, 0.1601])}"
      ]
     },
     "execution_count": 152,
     "metadata": {},
     "output_type": "execute_result"
    }
   ],
   "source": [
    "sensor_model = {}\n",
    "for k, v in agent_count_mapping.items():\n",
    "    cnt_bids = Counter(v)\n",
    "    total = len(v)\n",
    "    for key in cnt_bids:\n",
    "        cnt_bids[key] /= total\n",
    "    sensor_model[k] = dict(cnt_bids)\n",
    "    \n",
    "possible_moves = ['silent', 'concession', 'unfortunate', 'nice', 'fortunate', 'selfish']\n",
    "\n",
    "for k, moves in sensor_model.items():\n",
    "    for pm in possible_moves:\n",
    "        if pm not in moves:\n",
    "            moves[pm] = 0.0\n",
    "    sensor_model[k] = np.array(list(dict(OrderedDict(sorted(moves.items()))).values()))\n",
    "\n",
    "print(sorted(possible_moves))\n",
    "sensor_model"
   ]
  }
 ],
 "metadata": {
  "kernelspec": {
   "display_name": "Python 3",
   "language": "python",
   "name": "python3"
  },
  "language_info": {
   "codemirror_mode": {
    "name": "ipython",
    "version": 3
   },
   "file_extension": ".py",
   "mimetype": "text/x-python",
   "name": "python",
   "nbconvert_exporter": "python",
   "pygments_lexer": "ipython3",
   "version": "3.6.6"
  }
 },
 "nbformat": 4,
 "nbformat_minor": 2
}
